version https://git-lfs.github.com/spec/v1
oid sha256:c18ce5f7122dfb827a99b690ff0868312bb639be557a9be7b7625f94902327d7
size 474402
