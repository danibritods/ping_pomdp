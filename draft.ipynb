{
 "cells": [
  {
   "cell_type": "code",
   "execution_count": 1,
   "metadata": {},
   "outputs": [],
   "source": [
    "# import pymdp\n",
    "from pymdp import utils\n",
    "from pymdp.agent import Agent\n",
    "\n",
    "num_obs = [2,2,2,2,2,2,2,2] # eight stimulation sites that can either be activated or not\n",
    "#later I'll experiment with higher \"resolution\".\n",
    "num_states = [5, 5, 3] # 5 paddle positions, 5 ball vertical positions, 3 ball 'proximities'  \n",
    "num_controls = [2, 1, 1] # 2 possible actions: up or down (affects paddle positions), 1 and 1 controls corresponding to the uninfluenced hidden states.\n",
    "A_array = utils.random_A_matrix(num_obs, num_states) # create sensory likelihood (A matrix)\n",
    "B_array = utils.random_B_matrix(num_states, num_controls) # create transition likelihood (B matrix)\n",
    "\n",
    "C_vector = utils.obj_array_uniform(num_obs) # uniform preferences\n",
    "\n",
    "# instantiate a quick agent using your A, B and C arrays\n",
    "my_agent = Agent( A = A_array, B = B_array, C = C_vector)"
   ]
  },
  {
   "cell_type": "code",
   "execution_count": 1,
   "metadata": {},
   "outputs": [],
   "source": [
    "# import pymdp\n",
    "from pymdp import utils\n",
    "from pymdp.agent import Agent\n",
    "\n",
    "num_obs = [2,2,2,2] # eight stimulation sites that can either be activated or not\n",
    "#later I'll experiment with higher \"resolution\".\n",
    "num_states = [3, 3] # 5 paddle positions, 5 ball vertical positions, 3 ball 'proximities'  \n",
    "num_controls = [2, 1] # 2 possible actions: up or down (affects paddle positions), 1 and 1 controls corresponding to the uninfluenced hidden states.\n",
    "A_array = utils.random_A_matrix(num_obs, num_states) # create sensory likelihood (A matrix)\n",
    "B_array = utils.random_B_matrix(num_states, num_controls) # create transition likelihood (B matrix)\n",
    "\n",
    "C_vector = utils.obj_array_uniform(num_obs) # uniform preferences\n",
    "\n",
    "# instantiate a quick agent using your A, B and C arrays\n",
    "my_agent = Agent( A = A_array, B = B_array, C = C_vector)"
   ]
  },
  {
   "cell_type": "code",
   "execution_count": 47,
   "metadata": {},
   "outputs": [],
   "source": [
    "import numpy as np\n",
    "import random"
   ]
  },
  {
   "cell_type": "code",
   "execution_count": 55,
   "metadata": {},
   "outputs": [
    {
     "name": "stdout",
     "output_type": "stream",
     "text": [
      "1.97 µs ± 68.6 ns per loop (mean ± std. dev. of 7 runs, 100,000 loops each)\n"
     ]
    }
   ],
   "source": [
    "%%timeit\n",
    "ball_x = 4\n",
    "ball_y = 5\n",
    "ball_x += random.randint(0,10)\n",
    "ball_y += random.randint(0,10)"
   ]
  },
  {
   "cell_type": "code",
   "execution_count": 54,
   "metadata": {},
   "outputs": [
    {
     "name": "stdout",
     "output_type": "stream",
     "text": [
      "5.01 µs ± 725 ns per loop (mean ± std. dev. of 7 runs, 100,000 loops each)\n"
     ]
    }
   ],
   "source": [
    "%%timeit\n",
    "ball_pos = np.array([4,5])\n",
    "ball_pos += np.array([random.randint(0,10),random.randint(0,10)])"
   ]
  }
 ],
 "metadata": {
  "kernelspec": {
   "display_name": "venv",
   "language": "python",
   "name": "python3"
  },
  "language_info": {
   "codemirror_mode": {
    "name": "ipython",
    "version": 3
   },
   "file_extension": ".py",
   "mimetype": "text/x-python",
   "name": "python",
   "nbconvert_exporter": "python",
   "pygments_lexer": "ipython3",
   "version": "3.9.7"
  },
  "orig_nbformat": 4
 },
 "nbformat": 4,
 "nbformat_minor": 2
}
