{
 "cells": [
  {
   "cell_type": "code",
   "execution_count": 4,
   "metadata": {},
   "outputs": [],
   "source": [
    "import numpy as np\n",
    "import gridlink as g\n",
    "grid = g.Gridlink(None, (4,8))"
   ]
  },
  {
   "cell_type": "code",
   "execution_count": 7,
   "metadata": {},
   "outputs": [],
   "source": [
    "values = np.array(len(grid.sensory_cells)*[1])\n",
    "grid.write_active_cells(values)"
   ]
  },
  {
   "cell_type": "code",
   "execution_count": 8,
   "metadata": {},
   "outputs": [
    {
     "data": {
      "text/plain": [
       "array([[1., 0., 1., 0., 1., 0., 1., 0.],\n",
       "       [1., 0., 1., 0., 1., 0., 1., 0.],\n",
       "       [1., 0., 1., 0., 1., 0., 1., 0.],\n",
       "       [1., 0., 1., 0., 1., 0., 1., 0.]])"
      ]
     },
     "execution_count": 8,
     "metadata": {},
     "output_type": "execute_result"
    }
   ],
   "source": [
    "grid.read_all()"
   ]
  },
  {
   "cell_type": "code",
   "execution_count": 1,
   "metadata": {},
   "outputs": [],
   "source": [
    "import numpy as np\n",
    "import numpy.testing as npt\n",
    "import gridlink as g\n",
    "\n",
    "class ModelPatch():\n",
    "    def __init__(self):\n",
    "        self.observations = []\n",
    "\n",
    "    def observe(self, observation):\n",
    "        self.observations.append(observation)\n",
    "    \n",
    "\n",
    "\n",
    "\n",
    "agent = ModelPatch()\n",
    "test_grid = g.Gridlink(agent, (1,4),(1,2))\n",
    "N_PREDICTABLE_CYCLES = 2\n",
    "\n",
    "ones = np.ones(len(test_grid.sensory_cells))\n",
    "zeros = np.zeros(len(test_grid.sensory_cells))\n",
    "\n",
    "exp_obs = [ones,zeros,ones,zeros]\n",
    "test_grid._predictable_feedback()"
   ]
  },
  {
   "cell_type": "code",
   "execution_count": 2,
   "metadata": {},
   "outputs": [
    {
     "data": {
      "text/plain": [
       "[array([[0., 0., 0., 0.]]),\n",
       " array([[0., 0., 0., 0.]]),\n",
       " array([[0., 0., 0., 0.]]),\n",
       " array([[0., 0., 0., 0.]])]"
      ]
     },
     "execution_count": 2,
     "metadata": {},
     "output_type": "execute_result"
    }
   ],
   "source": [
    "agent.observations"
   ]
  }
 ],
 "metadata": {
  "kernelspec": {
   "display_name": "venv",
   "language": "python",
   "name": "python3"
  },
  "language_info": {
   "codemirror_mode": {
    "name": "ipython",
    "version": 3
   },
   "file_extension": ".py",
   "mimetype": "text/x-python",
   "name": "python",
   "nbconvert_exporter": "python",
   "pygments_lexer": "ipython3",
   "version": "3.9.7"
  },
  "orig_nbformat": 4
 },
 "nbformat": 4,
 "nbformat_minor": 2
}
