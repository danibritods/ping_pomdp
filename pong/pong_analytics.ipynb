{
 "cells": [
  {
   "cell_type": "code",
   "execution_count": 1,
   "metadata": {},
   "outputs": [],
   "source": [
    "from pong_back import Pong\n",
    "import pandas as pd\n",
    "import random\n",
    "\n",
    "random.seed(42)"
   ]
  },
  {
   "cell_type": "code",
   "execution_count": 2,
   "metadata": {},
   "outputs": [],
   "source": [
    "def simulate_game(game,n_steps):\n",
    "    data = []\n",
    "    for _ in range(n_steps):\n",
    "        status, rally, paddle_y, ball_x, ball_y = game.step(random.choice([-1,1]))\n",
    "        data.append((status, rally, paddle_y, ball_x, ball_y))\n",
    "    return data\n"
   ]
  },
  {
   "cell_type": "code",
   "execution_count": 6,
   "metadata": {},
   "outputs": [],
   "source": [
    "game = Pong()\n",
    "data = simulate_game(game,100)"
   ]
  },
  {
   "cell_type": "code",
   "execution_count": 7,
   "metadata": {},
   "outputs": [
    {
     "name": "stdout",
     "output_type": "stream",
     "text": [
      "status\n",
      "0         99\n",
      "1          1\n",
      "Name: count, dtype: int64\n",
      "rally\n",
      "1        54\n",
      "0        46\n",
      "Name: count, dtype: int64\n"
     ]
    }
   ],
   "source": [
    "df = pd.DataFrame(data, columns=['status', 'rally', 'paddle_y', 'ball_x', 'ball_y'])\n",
    "\n",
    "histogram_status = df[['status']].value_counts()\n",
    "histogram_rallies = df[['rally']].value_counts()\n",
    "\n",
    "print(histogram_status)\n",
    "print(histogram_rallies)"
   ]
  },
  {
   "cell_type": "code",
   "execution_count": 8,
   "metadata": {},
   "outputs": [
    {
     "data": {
      "text/plain": [
       "GameState(status=0, rally=0, ball_x=266.0, ball_y=226.0, paddle_y=240.0)"
      ]
     },
     "execution_count": 8,
     "metadata": {},
     "output_type": "execute_result"
    }
   ],
   "source": [
    "game = Pong()\n",
    "game.step(0)"
   ]
  }
 ],
 "metadata": {
  "kernelspec": {
   "display_name": "venv",
   "language": "python",
   "name": "python3"
  },
  "language_info": {
   "codemirror_mode": {
    "name": "ipython",
    "version": 3
   },
   "file_extension": ".py",
   "mimetype": "text/x-python",
   "name": "python",
   "nbconvert_exporter": "python",
   "pygments_lexer": "ipython3",
   "version": "3.9.7"
  },
  "orig_nbformat": 4
 },
 "nbformat": 4,
 "nbformat_minor": 2
}
