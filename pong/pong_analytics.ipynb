{
 "cells": [
  {
   "cell_type": "code",
   "execution_count": 25,
   "metadata": {},
   "outputs": [],
   "source": [
    "from pong_back import Pong\n",
    "import pandas as pd\n",
    "import random\n",
    "\n",
    "random.seed(42)"
   ]
  },
  {
   "cell_type": "code",
   "execution_count": 33,
   "metadata": {},
   "outputs": [],
   "source": [
    "def simulate_game(game,n_steps):\n",
    "    data = []\n",
    "    for _ in range(n_steps):\n",
    "        status, rally, paddle_y, ball_x, ball_y = game.step(random.choice([-1,1]))\n",
    "        data.append((status, rally, paddle_y, ball_x, ball_y))\n",
    "    return data\n"
   ]
  },
  {
   "cell_type": "code",
   "execution_count": 50,
   "metadata": {},
   "outputs": [],
   "source": [
    "game = Pong()\n",
    "data = simulate_game(game,1_000_000)"
   ]
  },
  {
   "cell_type": "code",
   "execution_count": 51,
   "metadata": {},
   "outputs": [
    {
     "name": "stdout",
     "output_type": "stream",
     "text": [
      "status\n",
      " 0        986250\n",
      "-1          8660\n",
      " 1          5090\n",
      "Name: count, dtype: int64\n",
      "rally\n",
      "0        433836\n",
      "1        367900\n",
      "2        126775\n",
      "3         45427\n",
      "4         17599\n",
      "5          5673\n",
      "6          2009\n",
      "7           560\n",
      "9           113\n",
      "8           108\n",
      "Name: count, dtype: int64\n"
     ]
    }
   ],
   "source": [
    "df = pd.DataFrame(data, columns=['status', 'rally', 'paddle_y', 'ball_x', 'ball_y'])\n",
    "\n",
    "histogram_status = df[['status']].value_counts()\n",
    "histogram_rallies = df[['rally']].value_counts()\n",
    "\n",
    "print(histogram_status)\n",
    "print(histogram_rallies)"
   ]
  }
 ],
 "metadata": {
  "kernelspec": {
   "display_name": "venv",
   "language": "python",
   "name": "python3"
  },
  "language_info": {
   "codemirror_mode": {
    "name": "ipython",
    "version": 3
   },
   "file_extension": ".py",
   "mimetype": "text/x-python",
   "name": "python",
   "nbconvert_exporter": "python",
   "pygments_lexer": "ipython3",
   "version": "3.9.7"
  },
  "orig_nbformat": 4
 },
 "nbformat": 4,
 "nbformat_minor": 2
}
